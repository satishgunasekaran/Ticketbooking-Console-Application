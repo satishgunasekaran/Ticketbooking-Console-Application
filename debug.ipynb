{
 "cells": [
  {
   "cell_type": "code",
   "execution_count": 1,
   "metadata": {},
   "outputs": [
    {
     "name": "stdout",
     "output_type": "stream",
     "text": [
      "User registered Successfully!\n"
     ]
    }
   ],
   "source": [
    "\n",
    "from classes import *\n",
    "dilmovies = DILMovies()\n",
    "\n",
    "dilmovies.admins[\"admin\"] = User(\"admin\", \"1234\", \"admin\")\n",
    "dilmovies.add_user(\"satish\",\"1234\")\n",
    "\n",
    "miraj = Theater(\"Miraj\", \"Coimbatore\")\n",
    "\n",
    "screen1 = Screen(\"Screen 1\", 10)\n",
    "\n",
    "show1 = Show(\"Vaathi\",(10, 1))\n",
    "\n",
    "screen1.shows[show1.time] = show1\n",
    "screen1.movies[show1.movie_name].append(show1) "
   ]
  },
  {
   "cell_type": "code",
   "execution_count": null,
   "metadata": {},
   "outputs": [],
   "source": []
  }
 ],
 "metadata": {
  "kernelspec": {
   "display_name": "base",
   "language": "python",
   "name": "python3"
  },
  "language_info": {
   "codemirror_mode": {
    "name": "ipython",
    "version": 3
   },
   "file_extension": ".py",
   "mimetype": "text/x-python",
   "name": "python",
   "nbconvert_exporter": "python",
   "pygments_lexer": "ipython3",
   "version": "3.9.13"
  },
  "orig_nbformat": 4,
  "vscode": {
   "interpreter": {
    "hash": "f3881b6ab658275d0b74adf5009ec54694f32fbb9441d829451055d7b0ab1593"
   }
  }
 },
 "nbformat": 4,
 "nbformat_minor": 2
}
